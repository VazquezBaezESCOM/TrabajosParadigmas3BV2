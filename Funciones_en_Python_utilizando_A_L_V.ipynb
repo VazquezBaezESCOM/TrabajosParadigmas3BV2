{
  "nbformat": 4,
  "nbformat_minor": 0,
  "metadata": {
    "colab": {
      "provenance": [],
      "toc_visible": true,
      "authorship_tag": "ABX9TyPqTlW3fcQAghfDQvp65SYp",
      "include_colab_link": true
    },
    "kernelspec": {
      "name": "python3",
      "display_name": "Python 3"
    },
    "language_info": {
      "name": "python"
    }
  },
  "cells": [
    {
      "cell_type": "markdown",
      "metadata": {
        "id": "view-in-github",
        "colab_type": "text"
      },
      "source": [
        "<a href=\"https://colab.research.google.com/github/VazquezBaezESCOM/TrabajosParadigmas3BV2/blob/main/Funciones_en_Python_utilizando_A_L_V.ipynb\" target=\"_parent\"><img src=\"https://colab.research.google.com/assets/colab-badge.svg\" alt=\"Open In Colab\"/></a>"
      ]
    },
    {
      "cell_type": "markdown",
      "source": [
        "\n",
        "En Python, un argumento con una longitud variable es una expresion la cual puede adoptar distintos valores (desde cero hasta n valores en base al problema a solucionar). Esto se realiza utilizando un asterisco ( * ), por ejemplo, *args, para indicar que la función puede adoptar una cantidad variable de argumentos.\n",
        "\n",
        "Sus características son:\n",
        "*   No es necesaria la designación \"*args\" para argumentos de longitud variable, ya que únicamente necesita el asterisco ( * ); por lo que el nombre de la variable puede ser cualquiera elegido por el programador.\n",
        "*   Para almacenar los valores pasados del argumento se utiliza una tupla.\n",
        "\n",
        "Cabe señalar que un argumento formal puede ir antes de un argumento variable, pero no después, así como también usar argumentos de palabras clave después de este previamente mencionado.\n",
        "\n",
        "Para pasar una cantidad variable de argumentos a una función, hay que utilizar la sintaxis especial *args en la especificación de la función, ya que permite enviar una lista de argumentos de longitud variable y sin palabras clave. Por convención, el signo * se utiliza con frecuencia con la palabra args en la sintaxis para aceptar una cantidad variable de argumentos.\n",
        "\n",
        "Puede aceptar argumentos adicionales utilizando *args más la cantidad de argumentos formales que definió previamente, dejándonos agregar cualquier cantidad de argumentos adicionales a sus parámetros formales actuales (incluido cero argumentos adicionales).\n",
        "\n",
        "También en las declaraciones de funciones, se pasa una lista de argumentos de longitud variable con palabras clave mediante la sintaxis específica **kwargs. La capacidad de la estrella doble para pasar argumentos con palabras clave es la permite pasar cualquier cantidad de variables. Al pasar una variable a una función, puede darle un nombre mediante un parámetro de palabra clave.\n",
        "\n",
        "A continuación veremos algunos ejemplos de la implementación de estos argumentos:\n",
        "\n",
        "1. Función de suma para valores fijos.\n",
        "\n",
        "\n",
        "\n",
        "\n"
      ],
      "metadata": {
        "id": "1RreHObCjBQh"
      }
    },
    {
      "cell_type": "code",
      "source": [
        "def add(num1, num2):\n",
        "   return num1+num2\n",
        "print(add(4,5))\n",
        "print(add(6,7))"
      ],
      "metadata": {
        "colab": {
          "base_uri": "https://localhost:8080/"
        },
        "id": "stit9vxDlyff",
        "outputId": "8b35c7ea-dd75-43a7-8695-74c4a200a6ea"
      },
      "execution_count": null,
      "outputs": [
        {
          "output_type": "stream",
          "name": "stdout",
          "text": [
            "9\n",
            "13\n"
          ]
        }
      ]
    },
    {
      "cell_type": "markdown",
      "source": [
        "2. Función de suma para valores variables."
      ],
      "metadata": {
        "id": "K8v0tqYhrsq-"
      }
    },
    {
      "cell_type": "code",
      "source": [
        "def add_num(*args):\n",
        "   sum = 0\n",
        "   for num in args:\n",
        "      sum += num\n",
        "   return sum\n",
        "result = add_num(1, 2, 3)\n",
        "print('Sum is', result)\n",
        "result = add_num(10, 20, 30, 40)\n",
        "print('Sum is', result)\n",
        "22\n",
        "result = add_num(5, 6, 7, 8, 9)\n",
        "print('Sum is', result)\n",
        "result = add_num(43, 16, 57, 38, 91, 64)\n",
        "print('Sum is', result)"
      ],
      "metadata": {
        "colab": {
          "base_uri": "https://localhost:8080/"
        },
        "id": "ehLZxSEEq2PW",
        "outputId": "61f62f93-e6a3-4338-fc07-89a882663e24"
      },
      "execution_count": null,
      "outputs": [
        {
          "output_type": "stream",
          "name": "stdout",
          "text": [
            "Sum is 6\n",
            "Sum is 100\n",
            "Sum is 35\n",
            "Sum is 309\n"
          ]
        }
      ]
    },
    {
      "cell_type": "markdown",
      "source": [
        "3. Función de multiplicación para valores variables."
      ],
      "metadata": {
        "id": "LBeTUE8zr6al"
      }
    },
    {
      "cell_type": "code",
      "source": [
        "def multiply(*args):\n",
        "   y = 1\n",
        "   for num in args:\n",
        "      y *= num\n",
        "   print(y)\n",
        "multiply(3, 7)\n",
        "multiply(9, 8)\n",
        "multiply(3, 4, 7)\n",
        "multiply(5, 6, 10, 8)\n",
        "multiply(51, 36, 19, 61,23)"
      ],
      "metadata": {
        "colab": {
          "base_uri": "https://localhost:8080/"
        },
        "id": "3PsWBBOzr8t-",
        "outputId": "cecc9104-71dc-4b16-df8c-e32bf4523f0f"
      },
      "execution_count": null,
      "outputs": [
        {
          "output_type": "stream",
          "name": "stdout",
          "text": [
            "21\n",
            "72\n",
            "84\n",
            "2400\n",
            "48942252\n"
          ]
        }
      ]
    },
    {
      "cell_type": "markdown",
      "source": [
        "4. Función para llevar un registro de los datos de una persona"
      ],
      "metadata": {
        "id": "lZGsTt17u1K9"
      }
    },
    {
      "cell_type": "code",
      "source": [
        "def intro(**data):\n",
        "   print(\"\\nData type of argument:\",type(data))\n",
        "   for key, value in data.items():\n",
        "      print(\"{} is {}\".format(key,value))\n",
        "intro(NombreEmpleado= \"Uriel\", Apellido= \"Velázquez\", Edad = 22, Teléfono = 5513245768)\n",
        "intro(PNombreEmpleado= \"Alondra\", Apellido= \"Júarez\", Email = \"velazquezur@gmail.com\", País= \"México\", Edad= 20, Teléfono = 5614253670)\n",
        "intro(EmployeeName=\"George\", Lastname=\"Jackson\", Age=22, Phone=1234567890)\n",
        "intro(Firstname=\"James\", Lastname=\"Jude\", Email=\"jamesjude@nomail.com\", Country=\"USA\", Age=25, Phone=9876543210)"
      ],
      "metadata": {
        "colab": {
          "base_uri": "https://localhost:8080/"
        },
        "id": "5VMiRRRnu10N",
        "outputId": "6ad29d11-6635-4263-dcb4-e9a60e3d5a15"
      },
      "execution_count": null,
      "outputs": [
        {
          "output_type": "stream",
          "name": "stdout",
          "text": [
            "\n",
            "Data type of argument: <class 'dict'>\n",
            "NombreEmpleado is Uriel\n",
            "Apellido is Velázquez\n",
            "Edad is 22\n",
            "Teléfono is 5513245768\n",
            "\n",
            "Data type of argument: <class 'dict'>\n",
            "PNombreEmpleado is Alondra\n",
            "Apellido is Júarez\n",
            "Email is velazquezur@gmail.com\n",
            "País is México\n",
            "Edad is 20\n",
            "Teléfono is 5614253670\n",
            "\n",
            "Data type of argument: <class 'dict'>\n",
            "EmployeeName is George\n",
            "Lastname is Jackson\n",
            "Age is 22\n",
            "Phone is 1234567890\n",
            "\n",
            "Data type of argument: <class 'dict'>\n",
            "Firstname is James\n",
            "Lastname is Jude\n",
            "Email is jamesjude@nomail.com\n",
            "Country is USA\n",
            "Age is 25\n",
            "Phone is 9876543210\n"
          ]
        }
      ]
    }
  ]
}