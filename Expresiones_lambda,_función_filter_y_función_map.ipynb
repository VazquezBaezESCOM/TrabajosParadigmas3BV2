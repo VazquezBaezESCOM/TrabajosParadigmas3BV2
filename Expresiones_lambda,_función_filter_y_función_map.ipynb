{
  "cells": [
    {
      "cell_type": "markdown",
      "metadata": {
        "id": "view-in-github",
        "colab_type": "text"
      },
      "source": [
        "<a href=\"https://colab.research.google.com/github/VazquezBaezESCOM/TrabajosParadigmas3BV2/blob/main/Expresiones_lambda%2C_funci%C3%B3n_filter_y_funci%C3%B3n_map.ipynb\" target=\"_parent\"><img src=\"https://colab.research.google.com/assets/colab-badge.svg\" alt=\"Open In Colab\"/></a>"
      ]
    },
    {
      "cell_type": "markdown",
      "metadata": {
        "id": "peRkmEICU14e"
      },
      "source": [
        "# Expresiones lambda, función filter y función map\n",
        "\\\n",
        "Una expresión lambda es una forma corta de declarar funciones pequeñas y anónimas para simplificar la declaración de las funciones dentro de una línea de código.\n",
        "\\\n",
        "Su forma general es:\n",
        "\\\n",
        "lambda args = expression\n",
        "\n",
        "La función filter nos permite (como dice el nombre) filtrar sobre los objetos iterables de una colección (conjunto de datos organizados) evaluando el objeto con lógica booleana el cual, cuando regrese un \"True\", se ejecutará la función en cuestión, retornando un objeto de tipo *filter* el cual puede ser convertido en una lista o tupla.\n",
        "\\\n",
        "Su forma general es:\n",
        "\\\n",
        "filter(funcion a aplicar, objeto iterable)\n",
        "\n",
        "Por otro lado, la función map es bastante similar a la función filter, devolviendo un objeto de tipo de tipo map que, al igual que el objeto filter, se puede convertir en una lista o en una tupla. A pesar de esto se diferencian ya que map crea un nuevo arreglo mediante la transformación de cada elemento en arreglos de forma individual mientras que filter crea una nueva matriz eliminando los elementos que no pertenecen. De aquí podemos deducir que, mientras que map trasnforma los elementos dentro de la lista, filter únicamente devuelve valores booleanos, lo cual implica que el tamños del arreglo se altere.\n",
        "\\\n",
        "La forma general de map es:\n",
        "\\\n",
        "map(funcion a aplicar, objeto iterable)\n",
        "\\\n",
        "Aquí veremos varios ejemplo de sus diferentes usos.\n",
        "\n",
        "1. Duplicar los valores de los elementos de una lista.\n",
        "\n"
      ]
    },
    {
      "cell_type": "code",
      "execution_count": null,
      "metadata": {
        "colab": {
          "base_uri": "https://localhost:8080/"
        },
        "id": "Ps5qYrMdU_3t",
        "outputId": "57d8603e-79f0-4ea9-e592-2b13bc8a1fba"
      },
      "outputs": [
        {
          "output_type": "stream",
          "name": "stdout",
          "text": [
            "Ingrese el tamaño del arreglo: 10\n",
            "Los elementos dentro del arreglo son:\n",
            "1. 40\n",
            "2. 147\n",
            "3. 68\n",
            "4. 243\n",
            "5. 272\n",
            "6. 46\n",
            "7. 79\n",
            "8. 173\n",
            "9. 87\n",
            "10. 129\n",
            "Los elementos pares dentro del arreglo duplicados son:\n",
            "1. 80\n",
            "2. 294\n",
            "3. 136\n",
            "4. 486\n",
            "5. 544\n",
            "6. 92\n",
            "7. 158\n",
            "8. 346\n",
            "9. 174\n",
            "10. 258\n"
          ]
        }
      ],
      "source": [
        "import random\n",
        "\n",
        "n = int(input('Ingrese el tamaño del arreglo: '))\n",
        "arr = list(map(lambda _: random.randint(0, 2048) % 300, range(n)))\n",
        "duplicados = list(map(lambda x: x * 2, arr))\n",
        "\n",
        "print('Los elementos dentro del arreglo son:')\n",
        "for i, val in enumerate(arr):\n",
        "    print(f\"{i + 1}. {val}\")\n",
        "\n",
        "print('Los elementos pares dentro del arreglo duplicados son:')\n",
        "for i, val in enumerate(duplicados):\n",
        "    print(f\"{i + 1}. {val}\")"
      ]
    },
    {
      "cell_type": "markdown",
      "source": [
        "2. Sumar dos listas"
      ],
      "metadata": {
        "id": "ESvpc7PGNsKz"
      }
    },
    {
      "cell_type": "code",
      "source": [
        "import random\n",
        "\n",
        "n1 = int(input('Ingrese el tamaño del arreglo 1: '))\n",
        "n2 = int(input('Ingrese el tamaño del arreglo 2: '))\n",
        "arr1 = list(map(lambda _: random.randint(0, 2048) % 300, range(n1)))\n",
        "arr2 = list(map(lambda _: random.randint(0, 2048) % 300, range(n2)))\n",
        "\n",
        "if len(arr1) != len(arr2):\n",
        "    if len(arr1) < len(arr2):\n",
        "        arr1.extend(random.randint(0, 2048) % 300 for _ in range(len(arr2) - len(arr1)))\n",
        "    else:\n",
        "        arr2.extend(random.randint(0, 2048) % 300 for _ in range(len(arr1) - len(arr2)))\n",
        "    print('Los arreglos han sido ajustados para que tengan el mismo tamaño.')\n",
        "\n",
        "print('\\nLos elementos dentro del arreglo 1 son:')\n",
        "for i, val in enumerate(arr1):\n",
        "    print(f\"{i + 1}. {val}\")\n",
        "\n",
        "print('\\nLos elementos dentro del arreglo 2 son:')\n",
        "for i, val in enumerate(arr2):\n",
        "    print(f\"{i + 1}. {val}\")\n",
        "\n",
        "suma = list(map(lambda x, y: x + y, arr1, arr2))\n",
        "\n",
        "print('\\nLa suma de los elementos correspondientes de ambos arreglos es:')\n",
        "for i, val in enumerate(suma):\n",
        "    print(f\"{i + 1}. {val}\")"
      ],
      "metadata": {
        "colab": {
          "base_uri": "https://localhost:8080/"
        },
        "id": "nGSdOKzVNx9S",
        "outputId": "7ba887d8-6489-4b38-f801-42a65d6f90a1"
      },
      "execution_count": 32,
      "outputs": [
        {
          "output_type": "stream",
          "name": "stdout",
          "text": [
            "Ingrese el tamaño del arreglo 1: 5\n",
            "Ingrese el tamaño del arreglo 2: 6\n",
            "Los arreglos han sido ajustados para que tengan el mismo tamaño.\n",
            "\n",
            "Los elementos dentro del arreglo 1 son:\n",
            "1. 145\n",
            "2. 204\n",
            "3. 117\n",
            "4. 21\n",
            "5. 288\n",
            "6. 186\n",
            "\n",
            "Los elementos dentro del arreglo 2 son:\n",
            "1. 16\n",
            "2. 230\n",
            "3. 217\n",
            "4. 174\n",
            "5. 177\n",
            "6. 218\n",
            "\n",
            "La suma de los elementos correspondientes de ambos arreglos es:\n",
            "1. 161\n",
            "2. 434\n",
            "3. 334\n",
            "4. 195\n",
            "5. 465\n",
            "6. 404\n"
          ]
        }
      ]
    },
    {
      "cell_type": "markdown",
      "source": [
        "3. Duplicar un número si es par y triplicarlo si es impar."
      ],
      "metadata": {
        "id": "2kOKuAybRy0s"
      }
    },
    {
      "cell_type": "code",
      "source": [
        "import random\n",
        "\n",
        "n = int(input('Ingrese el tamaño del arreglo: '))\n",
        "arr = list(map(lambda _: random.randint(0, 2048) % 300, range(n)))\n",
        "transformados = list(map(lambda x: (x, x * 2) if x % 2 == 0 else (x, x * 3), arr))\n",
        "transformados.sort(key=lambda x: x[0])\n",
        "\n",
        "arr1 = [x[0] for x in transformados]\n",
        "resultado1 = [x[1] for x in transformados]\n",
        "\n",
        "print('\\nLos elementos dentro del arreglo ordenados son:')\n",
        "for i, val in enumerate(arr1):\n",
        "    print(f\"{i + 1}. {val}\")\n",
        "\n",
        "print('\\nLos elementos del arreglo transformados y ordenados son:')\n",
        "for i, val in enumerate(resultado1):\n",
        "    print(f\"{i + 1}. {val}\")"
      ],
      "metadata": {
        "colab": {
          "base_uri": "https://localhost:8080/"
        },
        "id": "tSI-n8lrR20r",
        "outputId": "4df2810c-af3f-4c47-e8a6-cec3f397d90c"
      },
      "execution_count": 31,
      "outputs": [
        {
          "output_type": "stream",
          "name": "stdout",
          "text": [
            "Ingrese el tamaño del arreglo: 10\n",
            "\n",
            "Los elementos dentro del arreglo ordenados son:\n",
            "1. 47\n",
            "2. 58\n",
            "3. 88\n",
            "4. 102\n",
            "5. 108\n",
            "6. 112\n",
            "7. 209\n",
            "8. 217\n",
            "9. 229\n",
            "10. 277\n",
            "\n",
            "Los elementos del arreglo transformados y ordenados son:\n",
            "1. 141\n",
            "2. 116\n",
            "3. 176\n",
            "4. 204\n",
            "5. 216\n",
            "6. 224\n",
            "7. 627\n",
            "8. 651\n",
            "9. 687\n",
            "10. 831\n"
          ]
        }
      ]
    },
    {
      "cell_type": "markdown",
      "source": [
        "4. Encontrar las vocales de una cadena de texto"
      ],
      "metadata": {
        "id": "c0i_8fS5R1-s"
      }
    },
    {
      "cell_type": "code",
      "source": [
        "oracion = str(input('Ingrese una oración: '))\n",
        "vocales = list(filter(lambda x: x in 'aeiouAEIOUáéíóúÁÉÍÓÚ', oracion))\n",
        "conteo_vocales = {}\n",
        "\n",
        "for vocal in vocales:\n",
        "    if vocal in conteo_vocales:\n",
        "        conteo_vocales[vocal] += 1\n",
        "    else:\n",
        "        conteo_vocales[vocal] = 1\n",
        "\n",
        "conteo_ordenado = sorted(conteo_vocales.items())\n",
        "\n",
        "print('\\nLa oración que escribiste es:')\n",
        "print(oracion)\n",
        "\n",
        "print('\\nLas vocales que se encuentran dentro de esta oración son:')\n",
        "for i, (vocal, cantidad) in enumerate(conteo_ordenado, start=1):\n",
        "    print(f\"{i}. {vocal}: {cantidad}\")\n"
      ],
      "metadata": {
        "colab": {
          "base_uri": "https://localhost:8080/"
        },
        "id": "4DgYyuZjnfJP",
        "outputId": "9ed9378a-8923-4fe4-bf4d-8bfe34b5f919"
      },
      "execution_count": 23,
      "outputs": [
        {
          "output_type": "stream",
          "name": "stdout",
          "text": [
            "Ingrese una oración: AIUDA\n",
            "\n",
            "La oración que escribiste es:\n",
            "AIUDA\n",
            "\n",
            "Las vocales que se encuentran dentro de esta oración son:\n",
            "1. A: 2\n",
            "2. I: 1\n",
            "3. U: 1\n"
          ]
        }
      ]
    },
    {
      "cell_type": "markdown",
      "source": [
        "5. Encontrar aquellos valores de una lista que sean divisibles entre 3"
      ],
      "metadata": {
        "id": "Y2VH2Y_Mnf7H"
      }
    },
    {
      "cell_type": "code",
      "source": [
        "import random\n",
        "\n",
        "n = int(input('Ingrese el tamaño del arreglo: '))\n",
        "arr = list(map(lambda _: random.randint(0, 2048) % 300, range(n)))\n",
        "resultado = list(filter(lambda x: x % 3 == 0, arr))\n",
        "\n",
        "print('\\nLos elementos dentro del arreglo ordenados son:')\n",
        "for i, val in enumerate(arr):\n",
        "    print(f\"{i + 1}. {val}\")\n",
        "\n",
        "print('\\nLos elementos del arreglo que son divisibles entre 3 son:')\n",
        "for i, val in enumerate(resultado):\n",
        "    print(f\"{i + 1}. {val}\")"
      ],
      "metadata": {
        "colab": {
          "base_uri": "https://localhost:8080/"
        },
        "id": "_HDL_vHznft_",
        "outputId": "c84506e1-fcf3-43ce-9e3e-c333ac07bba2"
      },
      "execution_count": 30,
      "outputs": [
        {
          "output_type": "stream",
          "name": "stdout",
          "text": [
            "Ingrese el tamaño del arreglo: 10\n",
            "\n",
            "Los elementos dentro del arreglo ordenados son:\n",
            "1. 209\n",
            "2. 272\n",
            "3. 5\n",
            "4. 207\n",
            "5. 164\n",
            "6. 286\n",
            "7. 91\n",
            "8. 109\n",
            "9. 152\n",
            "10. 290\n",
            "\n",
            "Los elementos del arreglo que son divisibles entre 3 son:\n",
            "1. 207\n"
          ]
        }
      ]
    },
    {
      "cell_type": "markdown",
      "source": [
        "6. Crear una lista de listas a partir de una lista de entrada:"
      ],
      "metadata": {
        "id": "mVOJUoXZnfkv"
      }
    },
    {
      "cell_type": "code",
      "source": [
        "n = int(input('Ingrese la cantidad de elementos en la lista principal: '))\n",
        "lista_principal = list(map(lambda _: input(f'Ingrese el elemento {_ + 1}: '), range(n)))\n",
        "lista_de_listas = list(map(lambda x: list(x), lista_principal))\n",
        "lista_filtrada = list(filter(lambda x: len(x) > 0, lista_de_listas))\n",
        "\n",
        "print('\\nLa lista principal es:')\n",
        "print(lista_principal)\n",
        "\n",
        "print('\\nLa lista de listas es:')\n",
        "print(lista_de_listas)"
      ],
      "metadata": {
        "colab": {
          "base_uri": "https://localhost:8080/"
        },
        "id": "gpAfRZYnry1n",
        "outputId": "92623774-8b06-46d8-bbae-e27bd424b79e"
      },
      "execution_count": 29,
      "outputs": [
        {
          "output_type": "stream",
          "name": "stdout",
          "text": [
            "Ingrese la cantidad de elementos en la lista principal: 3\n",
            "Ingrese el elemento 1: haba\n",
            "Ingrese el elemento 2: cámara\n",
            "Ingrese el elemento 3: amor\n",
            "\n",
            "La lista principal es:\n",
            "['haba', 'cámara', 'amor']\n",
            "\n",
            "La lista de listas es:\n",
            "[['h', 'a', 'b', 'a'], ['c', 'á', 'm', 'a', 'r', 'a'], ['a', 'm', 'o', 'r']]\n",
            "\n",
            "La lista de listas filtrada (sin sublistas vacías):\n",
            "[['h', 'a', 'b', 'a'], ['c', 'á', 'm', 'a', 'r', 'a'], ['a', 'm', 'o', 'r']]\n"
          ]
        }
      ]
    },
    {
      "cell_type": "markdown",
      "metadata": {
        "id": "rGJjf7aNVAr9"
      },
      "source": [
        "Referencias\n",
        "1. Anónimo (S/F) “Función map” *Código Facilito*. Recuperado el 26 de octubre de 2024 de https://codigofacilito.com/articulos/funcion-map\n",
        "2. Bustamante, S. (31 de diciembre de 2020) “Expresiones Lambda en Python” *freeCodeCamp*. Recuperado el 26 de octubre de 2024 de https://www.freecodecamp.org/espanol/news/expresiones-lambda-en-python/\n",
        "3. García, E. (10 de octubre de 2018) “Programación Funcional en Python” *Código Facilito*. Recuperado el 26 de octubre de 2024 de https://codigofacilito.com/articles/419\n",
        "4. Lozano, J. (S/F) “Generar números aleatorios en Python” *J2Logo*. Recuperado el 26 de octubre de 2024 de https://codigofacilito.com/articulos/funcion-map\n",
        "5. Rodríguez, A. (23 de julio de 2021) “Qué son las expresiones lambda y su uso en la programación de aplicaciones” *Tokio School*. Recuperado el 26 de octubre de 2024 de https://www.tokioschool.com/noticias/expresiones-lambda-uso-programacion-aplicaciones/\n",
        "6. Sengstacke, P. (16 de octubre de 2021) “Como usar Map, Filter y Reduce en JavaScript” *Envato Tuts+*. Recuperado el 27 de octubre de 2024 de https://code.tutsplus.com/es/how-to-use-map-filter-reduce-in-javascript--cms-26209t\n",
        "\n",
        "\n",
        "\n",
        "\n",
        "\n",
        "\n",
        "\n"
      ]
    }
  ],
  "metadata": {
    "colab": {
      "provenance": [],
      "authorship_tag": "ABX9TyPY3yym3AwLzpml4+7NZAyd",
      "include_colab_link": true
    },
    "kernelspec": {
      "display_name": "Python 3",
      "name": "python3"
    },
    "language_info": {
      "name": "python"
    }
  },
  "nbformat": 4,
  "nbformat_minor": 0
}